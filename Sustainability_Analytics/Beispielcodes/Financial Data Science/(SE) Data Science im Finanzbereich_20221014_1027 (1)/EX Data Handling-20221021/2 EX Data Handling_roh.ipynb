{
 "cells": [
  {
   "cell_type": "markdown",
   "id": "3ca765bf",
   "metadata": {},
   "source": [
    "# Data Handling\n",
    "When working with large amounts of data, we always should expect there to be some missing data or errors. We first have to detect the errors and can then either remove or impute the faulty values. Most of the time there is no obvious right or wrong as it depends on the data and case. Handling the data is the true art of data science."
   ]
  },
  {
   "cell_type": "code",
   "execution_count": 29,
   "id": "5dbbd242",
   "metadata": {},
   "outputs": [],
   "source": [
    "import pandas as pd\n",
    "import numpy as np\n",
    "import seaborn as sns\n",
    "import matplotlib.pyplot as plt\n",
    "\n",
    "%matplotlib inline"
   ]
  },
  {
   "cell_type": "markdown",
   "id": "bc89c995",
   "metadata": {},
   "source": [
    "## Filtering"
   ]
  },
  {
   "cell_type": "code",
   "execution_count": null,
   "id": "01beb6bb",
   "metadata": {},
   "outputs": [],
   "source": [
    "# create df with NaN, inf, ? strings, ...\n",
    "df = pd.DataFrame({\n",
    "    'Column A': [1, np.nan, 7],\n",
    "    'Column B': [1, 2, np.inf],\n",
    "    'Column C': [\"?\", 2, 5],\n",
    "    'Column D': [np.nan, 6, 9]\n",
    "})\n",
    "\n",
    "df"
   ]
  },
  {
   "cell_type": "code",
   "execution_count": null,
   "id": "5193b6e9",
   "metadata": {},
   "outputs": [],
   "source": [
    "# test elements for NaN values\n",
    "pd.isnull(df)"
   ]
  },
  {
   "cell_type": "code",
   "execution_count": null,
   "id": "8568afc2",
   "metadata": {},
   "outputs": [],
   "source": [
    "# drop rows with NaN values\n",
    "df.dropna()"
   ]
  },
  {
   "cell_type": "code",
   "execution_count": null,
   "id": "eb050190",
   "metadata": {},
   "outputs": [],
   "source": [
    "# only consider one column \n",
    "df.dropna(subset=['Column A']) "
   ]
  },
  {
   "cell_type": "code",
   "execution_count": null,
   "id": "e006d375",
   "metadata": {},
   "outputs": [],
   "source": [
    "# drop columns with NaN values\n",
    "df.dropna(axis=1) "
   ]
  },
  {
   "cell_type": "markdown",
   "id": "c37b0d6a",
   "metadata": {},
   "source": [
    "A blank entry in a dataset often simply means a 0, but when imported pandas turns it into a NaN value, we can replace these values with different methods"
   ]
  },
  {
   "cell_type": "code",
   "execution_count": null,
   "id": "d2a220e1",
   "metadata": {},
   "outputs": [],
   "source": [
    "df.fillna(0)"
   ]
  },
  {
   "cell_type": "code",
   "execution_count": null,
   "id": "b4fc2caf",
   "metadata": {},
   "outputs": [],
   "source": [
    "# replace inf values\n",
    "df.replace([np.inf, -np.inf], 0)"
   ]
  },
  {
   "cell_type": "code",
   "execution_count": null,
   "id": "e91583c5",
   "metadata": {},
   "outputs": [],
   "source": [
    "# check if there are NaN values in a column\n",
    "df.isnull().any()"
   ]
  },
  {
   "cell_type": "code",
   "execution_count": null,
   "id": "64236433",
   "metadata": {},
   "outputs": [],
   "source": [
    "# locate NaN values in column\n",
    "df.loc[df[\"Column A\"].isnull()].index"
   ]
  },
  {
   "cell_type": "code",
   "execution_count": null,
   "id": "78382994",
   "metadata": {},
   "outputs": [],
   "source": [
    "# check data types of columns\n",
    "df.dtypes"
   ]
  },
  {
   "cell_type": "code",
   "execution_count": null,
   "id": "18be4e53",
   "metadata": {},
   "outputs": [],
   "source": [
    "# replace ? string with 0\n",
    "df['Column C'].replace('?', 0, inplace= True)\n",
    "df.dtypes"
   ]
  },
  {
   "cell_type": "markdown",
   "id": "eedc6f08",
   "metadata": {},
   "source": [
    "## Handle invalid data"
   ]
  },
  {
   "cell_type": "code",
   "execution_count": null,
   "id": "c04614f1",
   "metadata": {},
   "outputs": [],
   "source": [
    "# data frame with survey data\n",
    "df = pd.DataFrame({\n",
    "    'ID': ['1110','1110','1111','1112','1113','1114'],\n",
    "    'Name': ['Thomas','Thomas','Sarah','Ella','Barbara','Daniel'],\n",
    "    'Sex': ['M','M', 'F', 'F', 'D', '?'],\n",
    "    'Age': [29,29, 30, 290, 24, 25],\n",
    "})\n",
    "df"
   ]
  },
  {
   "cell_type": "code",
   "execution_count": null,
   "id": "cfe414b7",
   "metadata": {},
   "outputs": [],
   "source": [
    "# we have duplicates in the df, the ID signals that all entries should be unique\n",
    "df.duplicated()"
   ]
  },
  {
   "cell_type": "code",
   "execution_count": null,
   "id": "31b091ec",
   "metadata": {},
   "outputs": [],
   "source": [
    "# we can drop all duplicates and only keep the first/last entry\n",
    "df.drop_duplicates(keep='first',inplace=True)\n",
    "df"
   ]
  },
  {
   "cell_type": "code",
   "execution_count": null,
   "id": "e36cef1d",
   "metadata": {},
   "outputs": [],
   "source": [
    "# show all unique entries\n",
    "df['Sex'].unique()"
   ]
  },
  {
   "cell_type": "code",
   "execution_count": null,
   "id": "031edbd1",
   "metadata": {},
   "outputs": [],
   "source": [
    "# we could assume that D was a typo for F and replace all D entries with F\n",
    "df['Sex'].replace('D', 'F',inplace=True)\n",
    "df"
   ]
  },
  {
   "cell_type": "code",
   "execution_count": null,
   "id": "64f0e351",
   "metadata": {},
   "outputs": [],
   "source": [
    "# there is an invalid age entry of 290\n",
    "print('Max Age is', max(df['Age']))\n",
    "print('Min Age is',min(df[\"Age\"]))"
   ]
  },
  {
   "cell_type": "code",
   "execution_count": null,
   "id": "02a43414",
   "metadata": {},
   "outputs": [],
   "source": [
    "# we could also assume that 290 was a typo for 29, but to make sure we can\n",
    "# exclude all implausible values\n",
    "df = df[df['Age'] <= 110]\n",
    "df"
   ]
  },
  {
   "cell_type": "code",
   "execution_count": null,
   "id": "462313be",
   "metadata": {},
   "outputs": [],
   "source": [
    "# we also do not know what to make of the '?'\n",
    "# - we could imply the Sex by the Name (not possible with large amount of '?')\n",
    "# - we could use the '?' as its own Sex category\n",
    "# - we could just filter them out\n",
    "df = df[df['Sex'] != '?']\n",
    "df"
   ]
  },
  {
   "cell_type": "markdown",
   "id": "e9eb32fc",
   "metadata": {},
   "source": [
    "## Filling missing values"
   ]
  },
  {
   "cell_type": "code",
   "execution_count": 10,
   "id": "fc54b40a",
   "metadata": {},
   "outputs": [],
   "source": [
    "# dataframe with a specific order and a missing value\n",
    "df = pd.DataFrame({\n",
    "    'Hour': ['09:00','11:00','07:00','12:00','08:00','06:00','10:00'],\n",
    "    'Precipitation': [112,np.nan,78, 84, 92,70,105 ]\n",
    "})"
   ]
  },
  {
   "cell_type": "code",
   "execution_count": null,
   "id": "ccc154ac",
   "metadata": {},
   "outputs": [],
   "source": [
    "# order df by Hour\n",
    "df.sort_values('Hour',inplace=True)\n",
    "df.reset_index(drop=True,inplace=True)\n",
    "df"
   ]
  },
  {
   "cell_type": "markdown",
   "id": "b06fa212",
   "metadata": {},
   "source": [
    "we can see that the Precipitation follows some sort of trend. And we have a time series with a range of hourly values. Simply dropping the value would make the Hour column inconsistent, thus we try to avoid it. We should try to impute the missing value using the trend instead.\n",
    "\n",
    "There are of course different methods to interpolate..."
   ]
  },
  {
   "cell_type": "code",
   "execution_count": null,
   "id": "6c3462f9",
   "metadata": {},
   "outputs": [],
   "source": [
    "# use simple filling method (forward fill/...)\n",
    "df.fillna(method='ffill')"
   ]
  },
  {
   "cell_type": "code",
   "execution_count": null,
   "id": "a6e455a6",
   "metadata": {},
   "outputs": [],
   "source": [
    "# linear interpolation\n",
    "df['Precipitation'].interpolate(method=\"linear\")"
   ]
  },
  {
   "cell_type": "code",
   "execution_count": null,
   "id": "f474b3ac",
   "metadata": {},
   "outputs": [],
   "source": [
    "# polynomial interpolation\n",
    "df['Precipitation'].interpolate(method=\"polynomial\", order=2)"
   ]
  },
  {
   "cell_type": "markdown",
   "id": "a333748c",
   "metadata": {},
   "source": [
    "# Formatting\n",
    "Cleaning text values can be incredibly hard. Invalid text values involves, 99% of the time, mistyping, which is completely unpredictable and doesn't follow any pattern. Thankfully, it's not so common these days, where data-entry tasks have been replaced by machines. Still, let's explore the most common cases."
   ]
  },
  {
   "cell_type": "code",
   "execution_count": null,
   "id": "fd0c33a5",
   "metadata": {},
   "outputs": [],
   "source": [
    "# Survey data formatted as strings only\n",
    "df = pd.DataFrame({\n",
    "    'Data': [\n",
    "        '1987_M_US _1',\n",
    "        '1990?_M_UK_1',\n",
    "        '1992_F_US_2',\n",
    "        '1970?_M_   IT_1',\n",
    "        '1985_F_I  T_2'\n",
    "]})\n",
    "df"
   ]
  },
  {
   "cell_type": "code",
   "execution_count": null,
   "id": "fe2e6e72",
   "metadata": {},
   "outputs": [],
   "source": [
    "# we see some separation with an underscore and can use that pattern to split the text\n",
    "df = df['Data'].str.split('_',expand=True)\n",
    "df"
   ]
  },
  {
   "cell_type": "code",
   "execution_count": 14,
   "id": "aa34e9f5",
   "metadata": {},
   "outputs": [],
   "source": [
    "# label the columns\n",
    "df.columns = ['Year', 'Sex', 'Country', 'Num Children']"
   ]
  },
  {
   "cell_type": "code",
   "execution_count": null,
   "id": "30c9db04",
   "metadata": {},
   "outputs": [],
   "source": [
    "# we need to remove whitespaces in some country values and ? in year values\n",
    "df['Country'] = df['Country'].str.replace(' ', '')\n",
    "df['Year'] = df['Year'].str.replace('?', '')\n",
    "df"
   ]
  },
  {
   "cell_type": "markdown",
   "id": "02a204b7",
   "metadata": {},
   "source": [
    "# Data Handling Exercise\n",
    "We have some price data with missing and faulty values that we want to analyze.\n",
    "## Exercise a)\n",
    "- Read in the data *btc-eth.csv*.\n",
    "- Visualize and inspect the price data\n",
    "- Fill missing values"
   ]
  },
  {
   "cell_type": "code",
   "execution_count": 19,
   "id": "9f984585",
   "metadata": {},
   "outputs": [],
   "source": [
    "# read in data, don't forget to use datatime\n"
   ]
  },
  {
   "cell_type": "code",
   "execution_count": null,
   "id": "dd1eee9a",
   "metadata": {},
   "outputs": [],
   "source": [
    "# visualize data to inspect (Tip: use format 16:9)\n"
   ]
  },
  {
   "cell_type": "code",
   "execution_count": 20,
   "id": "d057ab82",
   "metadata": {},
   "outputs": [
    {
     "data": {
      "text/plain": [
       "DatetimeIndex(['2017-12-08', '2017-12-09', '2017-12-10'], dtype='datetime64[ns]', name='Timestamp', freq=None)"
      ]
     },
     "execution_count": 20,
     "metadata": {},
     "output_type": "execute_result"
    }
   ],
   "source": [
    "# locate missing values\n"
   ]
  },
  {
   "cell_type": "code",
   "execution_count": 21,
   "id": "ccece75b",
   "metadata": {},
   "outputs": [
    {
     "data": {
      "text/html": [
       "<div>\n",
       "<style scoped>\n",
       "    .dataframe tbody tr th:only-of-type {\n",
       "        vertical-align: middle;\n",
       "    }\n",
       "\n",
       "    .dataframe tbody tr th {\n",
       "        vertical-align: top;\n",
       "    }\n",
       "\n",
       "    .dataframe thead th {\n",
       "        text-align: right;\n",
       "    }\n",
       "</style>\n",
       "<table border=\"1\" class=\"dataframe\">\n",
       "  <thead>\n",
       "    <tr style=\"text-align: right;\">\n",
       "      <th></th>\n",
       "      <th>Bitcoin</th>\n",
       "      <th>Ether</th>\n",
       "    </tr>\n",
       "    <tr>\n",
       "      <th>Timestamp</th>\n",
       "      <th></th>\n",
       "      <th></th>\n",
       "    </tr>\n",
       "  </thead>\n",
       "  <tbody>\n",
       "    <tr>\n",
       "      <th>2017-12-06</th>\n",
       "      <td>13540.980000</td>\n",
       "      <td>422.48</td>\n",
       "    </tr>\n",
       "    <tr>\n",
       "      <th>2017-12-07</th>\n",
       "      <td>16501.971667</td>\n",
       "      <td>421.15</td>\n",
       "    </tr>\n",
       "    <tr>\n",
       "      <th>2017-12-08</th>\n",
       "      <td>16007.436667</td>\n",
       "      <td>NaN</td>\n",
       "    </tr>\n",
       "    <tr>\n",
       "      <th>2017-12-09</th>\n",
       "      <td>15142.834152</td>\n",
       "      <td>NaN</td>\n",
       "    </tr>\n",
       "    <tr>\n",
       "      <th>2017-12-10</th>\n",
       "      <td>14869.805000</td>\n",
       "      <td>NaN</td>\n",
       "    </tr>\n",
       "    <tr>\n",
       "      <th>2017-12-11</th>\n",
       "      <td>16762.116667</td>\n",
       "      <td>513.29</td>\n",
       "    </tr>\n",
       "    <tr>\n",
       "      <th>2017-12-12</th>\n",
       "      <td>17276.393333</td>\n",
       "      <td>656.52</td>\n",
       "    </tr>\n",
       "  </tbody>\n",
       "</table>\n",
       "</div>"
      ],
      "text/plain": [
       "                 Bitcoin   Ether\n",
       "Timestamp                       \n",
       "2017-12-06  13540.980000  422.48\n",
       "2017-12-07  16501.971667  421.15\n",
       "2017-12-08  16007.436667     NaN\n",
       "2017-12-09  15142.834152     NaN\n",
       "2017-12-10  14869.805000     NaN\n",
       "2017-12-11  16762.116667  513.29\n",
       "2017-12-12  17276.393333  656.52"
      ]
     },
     "execution_count": 21,
     "metadata": {},
     "output_type": "execute_result"
    }
   ],
   "source": [
    "# lets look at the times where values are missing\n"
   ]
  },
  {
   "cell_type": "code",
   "execution_count": 260,
   "id": "400fe683",
   "metadata": {},
   "outputs": [],
   "source": [
    "# linear interpolation\n"
   ]
  },
  {
   "cell_type": "code",
   "execution_count": 261,
   "id": "8e2fb297",
   "metadata": {},
   "outputs": [
    {
     "data": {
      "text/html": [
       "<div>\n",
       "<style scoped>\n",
       "    .dataframe tbody tr th:only-of-type {\n",
       "        vertical-align: middle;\n",
       "    }\n",
       "\n",
       "    .dataframe tbody tr th {\n",
       "        vertical-align: top;\n",
       "    }\n",
       "\n",
       "    .dataframe thead th {\n",
       "        text-align: right;\n",
       "    }\n",
       "</style>\n",
       "<table border=\"1\" class=\"dataframe\">\n",
       "  <thead>\n",
       "    <tr style=\"text-align: right;\">\n",
       "      <th></th>\n",
       "      <th>Bitcoin</th>\n",
       "      <th>Ether</th>\n",
       "    </tr>\n",
       "    <tr>\n",
       "      <th>Timestamp</th>\n",
       "      <th></th>\n",
       "      <th></th>\n",
       "    </tr>\n",
       "  </thead>\n",
       "  <tbody>\n",
       "    <tr>\n",
       "      <th>2017-12-06</th>\n",
       "      <td>13540.980000</td>\n",
       "      <td>422.480</td>\n",
       "    </tr>\n",
       "    <tr>\n",
       "      <th>2017-12-07</th>\n",
       "      <td>16501.971667</td>\n",
       "      <td>421.150</td>\n",
       "    </tr>\n",
       "    <tr>\n",
       "      <th>2017-12-08</th>\n",
       "      <td>16007.436667</td>\n",
       "      <td>444.185</td>\n",
       "    </tr>\n",
       "    <tr>\n",
       "      <th>2017-12-09</th>\n",
       "      <td>15142.834152</td>\n",
       "      <td>467.220</td>\n",
       "    </tr>\n",
       "    <tr>\n",
       "      <th>2017-12-10</th>\n",
       "      <td>14869.805000</td>\n",
       "      <td>490.255</td>\n",
       "    </tr>\n",
       "    <tr>\n",
       "      <th>2017-12-11</th>\n",
       "      <td>16762.116667</td>\n",
       "      <td>513.290</td>\n",
       "    </tr>\n",
       "    <tr>\n",
       "      <th>2017-12-12</th>\n",
       "      <td>17276.393333</td>\n",
       "      <td>656.520</td>\n",
       "    </tr>\n",
       "  </tbody>\n",
       "</table>\n",
       "</div>"
      ],
      "text/plain": [
       "                 Bitcoin    Ether\n",
       "Timestamp                        \n",
       "2017-12-06  13540.980000  422.480\n",
       "2017-12-07  16501.971667  421.150\n",
       "2017-12-08  16007.436667  444.185\n",
       "2017-12-09  15142.834152  467.220\n",
       "2017-12-10  14869.805000  490.255\n",
       "2017-12-11  16762.116667  513.290\n",
       "2017-12-12  17276.393333  656.520"
      ]
     },
     "execution_count": 261,
     "metadata": {},
     "output_type": "execute_result"
    }
   ],
   "source": [
    "# lets view the fitted values\n"
   ]
  },
  {
   "cell_type": "markdown",
   "id": "90b2e442",
   "metadata": {},
   "source": [
    "## Exercise b)\n",
    "We can clearly see some jumps/outliers that look implausible and are most likely errors. They will strongly disturb any analysis that we do. It is fairly easy to spot them in the plot and remove them manually, but we want to construct an automated approach.\n",
    "\n",
    "- Create an approach that automatically determines outliers (i.e. z-score)\n",
    "- Replace the outliers\n",
    "- Plot the final cleaned price series"
   ]
  },
  {
   "cell_type": "code",
   "execution_count": 24,
   "id": "8718b6f3",
   "metadata": {},
   "outputs": [],
   "source": [
    "# define upper and lower limit based on a z-score of 3\n"
   ]
  },
  {
   "cell_type": "code",
   "execution_count": 25,
   "id": "d108f50d",
   "metadata": {},
   "outputs": [
    {
     "data": {
      "text/plain": [
       "<matplotlib.lines.Line2D at 0x1d11c073490>"
      ]
     },
     "execution_count": 25,
     "metadata": {},
     "output_type": "execute_result"
    },
    {
     "data": {
      "image/png": "[encoded data removed]",
      "text/plain": [
       "<Figure size 1080x504 with 1 Axes>"
      ]
     },
     "metadata": {
      "needs_background": "light"
     },
     "output_type": "display_data"
    }
   ],
   "source": [
    "# inspect the ranges to see if the limits are properly set to determine outliers only\n"
   ]
  },
  {
   "cell_type": "code",
   "execution_count": 26,
   "id": "ce1ef33a",
   "metadata": {},
   "outputs": [],
   "source": [
    "# create copy\n",
    "df_clean = df.copy()\n",
    "\n",
    "# remove outliers in clean_df\n"
   ]
  },
  {
   "cell_type": "code",
   "execution_count": 27,
   "id": "d5a2482d",
   "metadata": {},
   "outputs": [],
   "source": [
    "# interpolate missing values\n"
   ]
  },
  {
   "cell_type": "code",
   "execution_count": 28,
   "id": "251e2114",
   "metadata": {},
   "outputs": [
    {
     "data": {
      "text/plain": [
       "<AxesSubplot:xlabel='Timestamp'>"
      ]
     },
     "execution_count": 28,
     "metadata": {},
     "output_type": "execute_result"
    },
    {
     "data": {
      "image/png": "[encoded data removed]",
      "text/plain": [
       "<Figure size 1152x504 with 1 Axes>"
      ]
     },
     "metadata": {
      "needs_background": "light"
     },
     "output_type": "display_data"
    },
    {
     "data": {
      "image/png": "[encoded data removed]",
      "text/plain": [
       "<Figure size 1152x504 with 1 Axes>"
      ]
     },
     "metadata": {
      "needs_background": "light"
     },
     "output_type": "display_data"
    }
   ],
   "source": [
    "# inspect your results\n"
   ]
  }
 ],
 "metadata": {
  "kernelspec": {
   "display_name": "Python 3 (ipykernel)",
   "language": "python",
   "name": "python3"
  },
  "language_info": {
   "codemirror_mode": {
    "name": "ipython",
    "version": 3
   },
   "file_extension": ".py",
   "mimetype": "text/x-python",
   "name": "python",
   "nbconvert_exporter": "python",
   "pygments_lexer": "ipython3",
   "version": "3.9.7"
  },
  "vscode": {
   "interpreter": {
    "hash": "e165bd9f2421c5eb20ff07afc84151005b605c0a44010827081d54cac67592f2"
   }
  }
 },
 "nbformat": 4,
 "nbformat_minor": 5
}
