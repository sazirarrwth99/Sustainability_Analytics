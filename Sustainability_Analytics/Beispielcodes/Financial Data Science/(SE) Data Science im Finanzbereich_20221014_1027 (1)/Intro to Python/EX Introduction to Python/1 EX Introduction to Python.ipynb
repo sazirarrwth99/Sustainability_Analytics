{
 "cells": [
  {
   "cell_type": "markdown",
   "id": "310ae2db",
   "metadata": {},
   "source": [
    "# Jupyter Notebook"
   ]
  },
  {
   "cell_type": "markdown",
   "id": "26aaa304",
   "metadata": {},
   "source": [
    "- Enter cell: *enter*\n",
    "- Leave cell: *esc*\n",
    "- Create new cell below: *b*\n",
    "- Create new cell above: *a*\n",
    "- Delete cell: *d d*\n",
    "- Convert cell to markdown: *m*\n",
    "- Run cell: *command+enter*\n",
    "- Run cell and go to next: *shift + enter*\n",
    "- Auto complete: *tab*\n",
    "- Signature autocomplete: *shift + tab*"
   ]
  },
  {
   "cell_type": "markdown",
   "id": "da75edfa",
   "metadata": {},
   "source": [
    "# Intro to Python"
   ]
  },
  {
   "cell_type": "code",
   "execution_count": 26,
   "id": "677be5db",
   "metadata": {},
   "outputs": [
    {
     "name": "stdout",
     "output_type": "stream",
     "text": [
      "Hello World\n",
      "Hello World\n",
      "Hello World\n",
      "True\n",
      "False\n"
     ]
    }
   ],
   "source": [
    "# print\n",
    "print(\"Hello World\")\n",
    "print(\"Hello\" + \" World\")\n",
    "\n",
    "# print text + variable\n",
    "x = \"World\"\n",
    "print(\"Hello %s\"%x)\n",
    "\n",
    "# boolean\n",
    "print(1==1)\n",
    "print(1>2)"
   ]
  },
  {
   "cell_type": "code",
   "execution_count": 27,
   "id": "b03ed9f8",
   "metadata": {},
   "outputs": [
    {
     "name": "stdout",
     "output_type": "stream",
     "text": [
      "[1, 3, 4, 5, 6]\n"
     ]
    }
   ],
   "source": [
    "# lists\n",
    "l = [1,2,3,4,5]\n",
    "\n",
    "# add new elemenent to list\n",
    "l.append(6)\n",
    "\n",
    "# remove\n",
    "l.remove(2)\n",
    "\n",
    "# lenght\n",
    "len(l)\n",
    "\n",
    "# get element\n",
    "l[0]\n",
    "\n",
    "# count elements\n",
    "l.count(1)\n",
    "\n",
    "print(l)"
   ]
  },
  {
   "cell_type": "code",
   "execution_count": 28,
   "id": "297d83dc",
   "metadata": {},
   "outputs": [
    {
     "name": "stdout",
     "output_type": "stream",
     "text": [
      "44500\n"
     ]
    }
   ],
   "source": [
    "# dictionaries\n",
    "Studentenzahlen = {\"Aachen\": 44500, \"Bochum\": 42700, \"Bonn\": 38000, \"Duisburg-Essen\": 38900, \"Koeln\": 49800}\n",
    "\n",
    "# get element of dict\n",
    "print(Studentenzahlen[\"Aachen\"])"
   ]
  },
  {
   "cell_type": "code",
   "execution_count": 29,
   "id": "b0860078",
   "metadata": {},
   "outputs": [
    {
     "name": "stdout",
     "output_type": "stream",
     "text": [
      "Es gibt mehr Studenten in Aachen als in Bonn.\n"
     ]
    }
   ],
   "source": [
    "# if else\n",
    "if Studentenzahlen[\"Aachen\"]>Studentenzahlen[\"Bonn\"]:\n",
    "    print(\"Es gibt mehr Studenten in Aachen als in Bonn.\")\n",
    "else:\n",
    "    print(\"Es gibt mehr Studenten in Bonn als in Aachen.\")"
   ]
  },
  {
   "cell_type": "code",
   "execution_count": 30,
   "id": "e909f970",
   "metadata": {},
   "outputs": [
    {
     "name": "stdout",
     "output_type": "stream",
     "text": [
      "Aachen 44500\n",
      "Bochum 42700\n",
      "Bonn 38000\n",
      "Duisburg-Essen 38900\n",
      "Koeln 49800\n",
      "Summe: 213900\n"
     ]
    }
   ],
   "source": [
    "# for loop\n",
    "student_sum = 0\n",
    "for stadt in Studentenzahlen:\n",
    "    print(stadt, Studentenzahlen[stadt])\n",
    "    student_sum += Studentenzahlen[stadt]\n",
    "    \n",
    "print(\"Summe:\",student_sum)"
   ]
  },
  {
   "cell_type": "code",
   "execution_count": 31,
   "id": "5a9d324f",
   "metadata": {},
   "outputs": [
    {
     "name": "stdout",
     "output_type": "stream",
     "text": [
      "1\n",
      "2\n",
      "3\n",
      "4\n"
     ]
    }
   ],
   "source": [
    "# while loop (if we do not know how often the loop should run, but use with caution)\n",
    "counter = 1\n",
    "while counter<5:\n",
    "    print(counter)\n",
    "    counter = counter+1"
   ]
  },
  {
   "cell_type": "code",
   "execution_count": 32,
   "id": "ad438820",
   "metadata": {},
   "outputs": [
    {
     "name": "stdout",
     "output_type": "stream",
     "text": [
      "16\n"
     ]
    }
   ],
   "source": [
    "# define function\n",
    "def square_number(x):\n",
    "    return x*x\n",
    "\n",
    "print(square_number(4))"
   ]
  },
  {
   "cell_type": "code",
   "execution_count": 33,
   "id": "c5b644c0",
   "metadata": {},
   "outputs": [
    {
     "data": {
      "text/plain": [
       "3.141592653589793"
      ]
     },
     "execution_count": 33,
     "metadata": {},
     "output_type": "execute_result"
    }
   ],
   "source": [
    "# import libraries\n",
    "from math import *\n",
    "pi"
   ]
  },
  {
   "cell_type": "code",
   "execution_count": 34,
   "id": "3fbf960f",
   "metadata": {},
   "outputs": [
    {
     "ename": "ValueError",
     "evalue": "invalid literal for int() with base 10: ''",
     "output_type": "error",
     "traceback": [
      "\u001b[1;31m---------------------------------------------------------------------------\u001b[0m",
      "\u001b[1;31mValueError\u001b[0m                                Traceback (most recent call last)",
      "\u001b[1;32mx:\\# Financial Data Science\\Python Code Kopie\\1_Introduction\\EX Introduction to Python.ipynb Zelle 12\u001b[0m in \u001b[0;36m<cell line: 4>\u001b[1;34m()\u001b[0m\n\u001b[0;32m      <a href='vscode-notebook-cell:/x%3A/%23%20Financial%20Data%20Science/Python%20Code%20Kopie/1_Introduction/EX%20Introduction%20to%20Python.ipynb#X14sZmlsZQ%3D%3D?line=0'>1</a>\u001b[0m \u001b[39mimport\u001b[39;00m \u001b[39mrandom\u001b[39;00m\n\u001b[0;32m      <a href='vscode-notebook-cell:/x%3A/%23%20Financial%20Data%20Science/Python%20Code%20Kopie/1_Introduction/EX%20Introduction%20to%20Python.ipynb#X14sZmlsZQ%3D%3D?line=2'>3</a>\u001b[0m \u001b[39m# user input\u001b[39;00m\n\u001b[1;32m----> <a href='vscode-notebook-cell:/x%3A/%23%20Financial%20Data%20Science/Python%20Code%20Kopie/1_Introduction/EX%20Introduction%20to%20Python.ipynb#X14sZmlsZQ%3D%3D?line=3'>4</a>\u001b[0m input_number \u001b[39m=\u001b[39m \u001b[39mint\u001b[39;49m(\u001b[39minput\u001b[39;49m(\u001b[39m\"\u001b[39;49m\u001b[39mWelche Zahl zwischen 1 und 10 denke ich mir? \u001b[39;49m\u001b[39m\"\u001b[39;49m))\n\u001b[0;32m      <a href='vscode-notebook-cell:/x%3A/%23%20Financial%20Data%20Science/Python%20Code%20Kopie/1_Introduction/EX%20Introduction%20to%20Python.ipynb#X14sZmlsZQ%3D%3D?line=5'>6</a>\u001b[0m \u001b[39m# random number between 1 and 10\u001b[39;00m\n\u001b[0;32m      <a href='vscode-notebook-cell:/x%3A/%23%20Financial%20Data%20Science/Python%20Code%20Kopie/1_Introduction/EX%20Introduction%20to%20Python.ipynb#X14sZmlsZQ%3D%3D?line=6'>7</a>\u001b[0m my_number \u001b[39m=\u001b[39m random\u001b[39m.\u001b[39msample(\u001b[39mrange\u001b[39m(\u001b[39m1\u001b[39m,\u001b[39m10\u001b[39m),\u001b[39m1\u001b[39m)[\u001b[39m0\u001b[39m]\n",
      "\u001b[1;31mValueError\u001b[0m: invalid literal for int() with base 10: ''"
     ]
    }
   ],
   "source": [
    "import random\n",
    "\n",
    "# user input\n",
    "input_number = int(input(\"Welche Zahl zwischen 1 und 10 denke ich mir? \"))\n",
    "\n",
    "# random number between 1 and 10\n",
    "my_number = random.sample(range(1,10),1)[0]\n",
    "\n",
    "# output\n",
    "if input_number == my_number:\n",
    "    print(\"Richtig\")\n",
    "else:\n",
    "    print(\"Falsch, meine Zahl war:\",my_number)"
   ]
  },
  {
   "cell_type": "markdown",
   "id": "63f1afbf",
   "metadata": {},
   "source": [
    "## Aufgabe\n",
    "Schreiben Sie nun ein Programm, das ein Lotto-Spiel simuliert. Generieren Sie eine zufällige Zahlenfolge mit 6 Zahlen zwischen 1 und 20. Der Nutzer soll dann sechs verschiedene Zahlen eingegeben und das Programm gibt aus, wie viele Zahlen richtig sind. Bitte geben Sie den Text: *Sie haben eine Zahl mehrfach eingegeben oder eine ungültige Zahl eingegeben. Bitte geben Sie Ihre sechs Zahlen erneut ein!*\" aus, falls der Nutzer nicht sechs unterschiedliche Zahlen oder eine ungültige Zahl eingegeben hat.\n"
   ]
  },
  {
   "cell_type": "code",
   "execution_count": null,
   "id": "94838e7f",
   "metadata": {},
   "outputs": [
    {
     "name": "stdout",
     "output_type": "stream",
     "text": [
      "Geben Sie eine Zahl zwischen 1 und 20 an: 1\n",
      "Geben Sie eine Zahl zwischen 1 und 20 an: 2\n",
      "Geben Sie eine Zahl zwischen 1 und 20 an: 3\n",
      "Geben Sie eine Zahl zwischen 1 und 20 an: 4\n",
      "Geben Sie eine Zahl zwischen 1 und 20 an: 5\n",
      "Geben Sie eine Zahl zwischen 1 und 20 an: 6\n",
      "Anzahl korrekter Zahlen: 1\n",
      "Die Lottozahlen lauten: [1, 8, 9, 12, 17, 18]\n"
     ]
    }
   ],
   "source": [
    "### Python Exercise: Lotto ###\n",
    "# Alle Schritte können mit den Befehlen aus dem Intro to Python programmiert werden\n",
    "# Eine gute Orientierungshilfe ist die Lösungsausgabe unter diesem Block\n",
    "\n",
    "import random\n",
    "\n",
    "# Waehle 6 Zahlen aus dem Bereich 1-20 zufaellig aus.\n",
    "\n",
    "\n",
    "# Setze eine boolsche Variable, um die richtige Eingabe zu kontrollieren.\n",
    "wrong_input = True\n",
    "\n",
    "# Wiederhole, bis die eingegebenen Zahlen keine Duplikate enthalten.\n",
    "while wrong_input:\n",
    "    # Gehe erstmal davon aus, dass die Eingabe korrekt ist.\n",
    "\n",
    "    \n",
    "    # Initialisiere eine leere Liste um die eingegeben Zahlen zu speichern. \n",
    "    \n",
    "\n",
    "    # Setze einen Zaehler für die richtigen Antworten.\n",
    "    \n",
    "\n",
    "    for i in range(0,6):\n",
    "        # Frage eine Zahl ab.\n",
    "        \n",
    "        \n",
    "        # Falls die neue Zahl bereits in der Liste ist oder nicht in unserem Bereich liegt,\n",
    "        # gebe eine Meldung aus und markiere die Eingabe als falsch. Verlasse die For-Schleife.\n",
    "        if () or () :\n",
    "            \n",
    "            break # bricht for-Schleife ab\n",
    "        else:\n",
    "            # Fuege die neue Zahl zur Liste der eingegeben Zahlen hinzu.\n",
    "            \n",
    "            \n",
    "            # Falls die eingegebene Zahl zu den Lottozahlen gehoert, erhoehe den Zaehler.\n",
    "            \n",
    "                \n",
    "# Ausgabe der gewünschten Zahlen\n",
    "\n"
   ]
  },
  {
   "cell_type": "markdown",
   "id": "6839897e",
   "metadata": {},
   "source": [
    "# Intro to Numpy"
   ]
  },
  {
   "cell_type": "code",
   "execution_count": null,
   "id": "0522cebd",
   "metadata": {},
   "outputs": [],
   "source": [
    "# import\n",
    "import numpy as np"
   ]
  },
  {
   "cell_type": "code",
   "execution_count": null,
   "id": "4d7c9125",
   "metadata": {},
   "outputs": [
    {
     "name": "stdout",
     "output_type": "stream",
     "text": [
      "[1 2 3]\n",
      "[5 2 3]\n",
      "[6 4 6]\n",
      "[2.23606798 1.41421356 1.73205081]\n",
      "3.3333333333333335\n",
      "1.247219128924647\n"
     ]
    }
   ],
   "source": [
    "# create numpy array\n",
    "a = np.array([1, 2, 3])\n",
    "\n",
    "# how to get elements from arrays:\n",
    "# first element has index 0\n",
    "# a[0] = 1\n",
    "# a[1] = 2\n",
    "# a[2] = 3\n",
    "\n",
    "# get first 3 elements of array a \n",
    "print(a[0:3])\n",
    "\n",
    "# assign new values\n",
    "a[0] = 5\n",
    "print(a)\n",
    "\n",
    "b = np.array([1, 2, 3])\n",
    "\n",
    "# operations\n",
    "print(a + b)\n",
    "print(np.sqrt(a))\n",
    "print(np.mean(a))\n",
    "print(np.std(a))\n",
    "# ...\n",
    "\n",
    "\n"
   ]
  },
  {
   "cell_type": "markdown",
   "id": "db5007fa",
   "metadata": {},
   "source": [
    "# Intro to Pandas\n",
    "Pandas is based on numpy. A row/column of a pandas dataframe is treated just like a numpy array."
   ]
  },
  {
   "cell_type": "code",
   "execution_count": 35,
   "id": "af5496ce",
   "metadata": {},
   "outputs": [],
   "source": [
    "import pandas as pd"
   ]
  },
  {
   "cell_type": "code",
   "execution_count": 36,
   "id": "5da08576",
   "metadata": {},
   "outputs": [
    {
     "data": {
      "text/html": [
       "<div>\n",
       "<style scoped>\n",
       "    .dataframe tbody tr th:only-of-type {\n",
       "        vertical-align: middle;\n",
       "    }\n",
       "\n",
       "    .dataframe tbody tr th {\n",
       "        vertical-align: top;\n",
       "    }\n",
       "\n",
       "    .dataframe thead th {\n",
       "        text-align: right;\n",
       "    }\n",
       "</style>\n",
       "<table border=\"1\" class=\"dataframe\">\n",
       "  <thead>\n",
       "    <tr style=\"text-align: right;\">\n",
       "      <th></th>\n",
       "      <th>A</th>\n",
       "      <th>B</th>\n",
       "      <th>C</th>\n",
       "    </tr>\n",
       "  </thead>\n",
       "  <tbody>\n",
       "    <tr>\n",
       "      <th>0</th>\n",
       "      <td>-2</td>\n",
       "      <td>-42</td>\n",
       "      <td>11</td>\n",
       "    </tr>\n",
       "    <tr>\n",
       "      <th>1</th>\n",
       "      <td>1</td>\n",
       "      <td>75</td>\n",
       "      <td>-17</td>\n",
       "    </tr>\n",
       "    <tr>\n",
       "      <th>2</th>\n",
       "      <td>7</td>\n",
       "      <td>5</td>\n",
       "      <td>-44</td>\n",
       "    </tr>\n",
       "    <tr>\n",
       "      <th>3</th>\n",
       "      <td>22</td>\n",
       "      <td>-4</td>\n",
       "      <td>-89</td>\n",
       "    </tr>\n",
       "  </tbody>\n",
       "</table>\n",
       "</div>"
      ],
      "text/plain": [
       "    A   B   C\n",
       "0  -2 -42  11\n",
       "1   1  75 -17\n",
       "2   7   5 -44\n",
       "3  22  -4 -89"
      ]
     },
     "execution_count": 36,
     "metadata": {},
     "output_type": "execute_result"
    }
   ],
   "source": [
    "# erzeuge ein Dataframe 3 Spalten und 4 Zeilen aus einem Dictionary\n",
    "df = pd.DataFrame({'A': [-2, 1, 7, 22],\n",
    "                   'B': [-42, 75, 5, -4],\n",
    "                   'C': [11, -17, -44, -89]})\n",
    "df"
   ]
  },
  {
   "cell_type": "code",
   "execution_count": 37,
   "id": "019cade7",
   "metadata": {},
   "outputs": [
    {
     "data": {
      "text/html": [
       "<div>\n",
       "<style scoped>\n",
       "    .dataframe tbody tr th:only-of-type {\n",
       "        vertical-align: middle;\n",
       "    }\n",
       "\n",
       "    .dataframe tbody tr th {\n",
       "        vertical-align: top;\n",
       "    }\n",
       "\n",
       "    .dataframe thead th {\n",
       "        text-align: right;\n",
       "    }\n",
       "</style>\n",
       "<table border=\"1\" class=\"dataframe\">\n",
       "  <thead>\n",
       "    <tr style=\"text-align: right;\">\n",
       "      <th></th>\n",
       "      <th>A</th>\n",
       "      <th>B</th>\n",
       "      <th>C</th>\n",
       "    </tr>\n",
       "  </thead>\n",
       "  <tbody>\n",
       "    <tr>\n",
       "      <th>Eins</th>\n",
       "      <td>-2</td>\n",
       "      <td>-42</td>\n",
       "      <td>11</td>\n",
       "    </tr>\n",
       "    <tr>\n",
       "      <th>Zwei</th>\n",
       "      <td>1</td>\n",
       "      <td>75</td>\n",
       "      <td>-17</td>\n",
       "    </tr>\n",
       "    <tr>\n",
       "      <th>Drei</th>\n",
       "      <td>7</td>\n",
       "      <td>5</td>\n",
       "      <td>-44</td>\n",
       "    </tr>\n",
       "    <tr>\n",
       "      <th>Vier</th>\n",
       "      <td>22</td>\n",
       "      <td>-4</td>\n",
       "      <td>-89</td>\n",
       "    </tr>\n",
       "  </tbody>\n",
       "</table>\n",
       "</div>"
      ],
      "text/plain": [
       "       A   B   C\n",
       "Eins  -2 -42  11\n",
       "Zwei   1  75 -17\n",
       "Drei   7   5 -44\n",
       "Vier  22  -4 -89"
      ]
     },
     "execution_count": 37,
     "metadata": {},
     "output_type": "execute_result"
    }
   ],
   "source": [
    "# Aendern der Zeilennamen, auch Index genannt\n",
    "df.index = ['Eins', 'Zwei', 'Drei', 'Vier']\n",
    "df"
   ]
  },
  {
   "cell_type": "code",
   "execution_count": null,
   "id": "6c79cd77",
   "metadata": {},
   "outputs": [
    {
     "data": {
      "text/html": [
       "<div>\n",
       "<style scoped>\n",
       "    .dataframe tbody tr th:only-of-type {\n",
       "        vertical-align: middle;\n",
       "    }\n",
       "\n",
       "    .dataframe tbody tr th {\n",
       "        vertical-align: top;\n",
       "    }\n",
       "\n",
       "    .dataframe thead th {\n",
       "        text-align: right;\n",
       "    }\n",
       "</style>\n",
       "<table border=\"1\" class=\"dataframe\">\n",
       "  <thead>\n",
       "    <tr style=\"text-align: right;\">\n",
       "      <th></th>\n",
       "      <th>A</th>\n",
       "      <th>B</th>\n",
       "      <th>C</th>\n",
       "      <th>D</th>\n",
       "    </tr>\n",
       "  </thead>\n",
       "  <tbody>\n",
       "    <tr>\n",
       "      <th>Eins</th>\n",
       "      <td>-2</td>\n",
       "      <td>-42</td>\n",
       "      <td>11</td>\n",
       "      <td>-1</td>\n",
       "    </tr>\n",
       "    <tr>\n",
       "      <th>Zwei</th>\n",
       "      <td>1</td>\n",
       "      <td>75</td>\n",
       "      <td>-17</td>\n",
       "      <td>1</td>\n",
       "    </tr>\n",
       "    <tr>\n",
       "      <th>Drei</th>\n",
       "      <td>7</td>\n",
       "      <td>5</td>\n",
       "      <td>-44</td>\n",
       "      <td>-2</td>\n",
       "    </tr>\n",
       "    <tr>\n",
       "      <th>Vier</th>\n",
       "      <td>22</td>\n",
       "      <td>-4</td>\n",
       "      <td>-89</td>\n",
       "      <td>2</td>\n",
       "    </tr>\n",
       "  </tbody>\n",
       "</table>\n",
       "</div>"
      ],
      "text/plain": [
       "       A   B   C  D\n",
       "Eins  -2 -42  11 -1\n",
       "Zwei   1  75 -17  1\n",
       "Drei   7   5 -44 -2\n",
       "Vier  22  -4 -89  2"
      ]
     },
     "execution_count": 20,
     "metadata": {},
     "output_type": "execute_result"
    }
   ],
   "source": [
    "# Spalte hinzufuegen\n",
    "df['D'] = [-1, 1, -2, 2]\n",
    "df"
   ]
  },
  {
   "cell_type": "code",
   "execution_count": null,
   "id": "8a589005",
   "metadata": {},
   "outputs": [
    {
     "data": {
      "text/html": [
       "<div>\n",
       "<style scoped>\n",
       "    .dataframe tbody tr th:only-of-type {\n",
       "        vertical-align: middle;\n",
       "    }\n",
       "\n",
       "    .dataframe tbody tr th {\n",
       "        vertical-align: top;\n",
       "    }\n",
       "\n",
       "    .dataframe thead th {\n",
       "        text-align: right;\n",
       "    }\n",
       "</style>\n",
       "<table border=\"1\" class=\"dataframe\">\n",
       "  <thead>\n",
       "    <tr style=\"text-align: right;\">\n",
       "      <th></th>\n",
       "      <th>A</th>\n",
       "      <th>B</th>\n",
       "      <th>C</th>\n",
       "    </tr>\n",
       "  </thead>\n",
       "  <tbody>\n",
       "    <tr>\n",
       "      <th>Eins</th>\n",
       "      <td>-2</td>\n",
       "      <td>-42</td>\n",
       "      <td>11</td>\n",
       "    </tr>\n",
       "    <tr>\n",
       "      <th>Zwei</th>\n",
       "      <td>1</td>\n",
       "      <td>75</td>\n",
       "      <td>-17</td>\n",
       "    </tr>\n",
       "    <tr>\n",
       "      <th>Drei</th>\n",
       "      <td>7</td>\n",
       "      <td>5</td>\n",
       "      <td>-44</td>\n",
       "    </tr>\n",
       "    <tr>\n",
       "      <th>Vier</th>\n",
       "      <td>22</td>\n",
       "      <td>-4</td>\n",
       "      <td>-89</td>\n",
       "    </tr>\n",
       "  </tbody>\n",
       "</table>\n",
       "</div>"
      ],
      "text/plain": [
       "       A   B   C\n",
       "Eins  -2 -42  11\n",
       "Zwei   1  75 -17\n",
       "Drei   7   5 -44\n",
       "Vier  22  -4 -89"
      ]
     },
     "execution_count": 21,
     "metadata": {},
     "output_type": "execute_result"
    }
   ],
   "source": [
    "# Spalten loeschen\n",
    "df = df.drop(['D'], axis='columns')\n",
    "df"
   ]
  },
  {
   "cell_type": "code",
   "execution_count": null,
   "id": "d09861ef",
   "metadata": {},
   "outputs": [
    {
     "data": {
      "text/html": [
       "<div>\n",
       "<style scoped>\n",
       "    .dataframe tbody tr th:only-of-type {\n",
       "        vertical-align: middle;\n",
       "    }\n",
       "\n",
       "    .dataframe tbody tr th {\n",
       "        vertical-align: top;\n",
       "    }\n",
       "\n",
       "    .dataframe thead th {\n",
       "        text-align: right;\n",
       "    }\n",
       "</style>\n",
       "<table border=\"1\" class=\"dataframe\">\n",
       "  <thead>\n",
       "    <tr style=\"text-align: right;\">\n",
       "      <th></th>\n",
       "      <th>A</th>\n",
       "    </tr>\n",
       "  </thead>\n",
       "  <tbody>\n",
       "    <tr>\n",
       "      <th>Eins</th>\n",
       "      <td>-2</td>\n",
       "    </tr>\n",
       "    <tr>\n",
       "      <th>Zwei</th>\n",
       "      <td>1</td>\n",
       "    </tr>\n",
       "    <tr>\n",
       "      <th>Drei</th>\n",
       "      <td>7</td>\n",
       "    </tr>\n",
       "    <tr>\n",
       "      <th>Vier</th>\n",
       "      <td>22</td>\n",
       "    </tr>\n",
       "  </tbody>\n",
       "</table>\n",
       "</div>"
      ],
      "text/plain": [
       "       A\n",
       "Eins  -2\n",
       "Zwei   1\n",
       "Drei   7\n",
       "Vier  22"
      ]
     },
     "execution_count": 22,
     "metadata": {},
     "output_type": "execute_result"
    }
   ],
   "source": [
    "# auf eine Spalte zugreifen\n",
    "first_column = df[['A']]\n",
    "first_column"
   ]
  },
  {
   "cell_type": "code",
   "execution_count": 38,
   "id": "f2462239",
   "metadata": {},
   "outputs": [
    {
     "name": "stdout",
     "output_type": "stream",
     "text": [
      "Das Element Zwei,B ist: 75\n",
      "    A   B   C\n",
      "0  -2 -42  11\n",
      "1   1  75 -17\n",
      "2   7   5 -44\n",
      "3  22  -4 -89\n",
      "Das Element 2,2 ist:  -44\n",
      "Reihe Eins als Series:\n",
      "A     1\n",
      "B    75\n",
      "C   -17\n",
      "Name: 1, dtype: int64\n"
     ]
    }
   ],
   "source": [
    "# auf ein Element zugreifen mit Namen\n",
    "print(\"Das Element Zwei,B ist:\", df.loc[\"Zwei\",\"B\"])\n",
    "\n",
    "# reset index\n",
    "df.reset_index(inplace=True,drop=True)\n",
    "print(df)\n",
    "\n",
    "# auf ein Element zugreifen mit Integern (mit 0 beginnend!)\n",
    "element_22 = df.iloc[2, 2]\n",
    "print(\"Das Element 2,2 ist: \",element_22)\n",
    "\n",
    "# auf eine Zeile/Spalte zugreifen\n",
    "row_Eins = df.loc[1, :].copy()\n",
    "print(\"Reihe Eins als Series:\")\n",
    "print(row_Eins)"
   ]
  },
  {
   "cell_type": "code",
   "execution_count": 182,
   "id": "b6c0a9f7",
   "metadata": {},
   "outputs": [
    {
     "data": {
      "text/html": [
       "<div>\n",
       "<style scoped>\n",
       "    .dataframe tbody tr th:only-of-type {\n",
       "        vertical-align: middle;\n",
       "    }\n",
       "\n",
       "    .dataframe tbody tr th {\n",
       "        vertical-align: top;\n",
       "    }\n",
       "\n",
       "    .dataframe thead th {\n",
       "        text-align: right;\n",
       "    }\n",
       "</style>\n",
       "<table border=\"1\" class=\"dataframe\">\n",
       "  <thead>\n",
       "    <tr style=\"text-align: right;\">\n",
       "      <th></th>\n",
       "      <th>A</th>\n",
       "      <th>B</th>\n",
       "      <th>C</th>\n",
       "    </tr>\n",
       "  </thead>\n",
       "  <tbody>\n",
       "    <tr>\n",
       "      <th>1</th>\n",
       "      <td>1</td>\n",
       "      <td>75</td>\n",
       "      <td>-17</td>\n",
       "    </tr>\n",
       "    <tr>\n",
       "      <th>2</th>\n",
       "      <td>7</td>\n",
       "      <td>5</td>\n",
       "      <td>-44</td>\n",
       "    </tr>\n",
       "    <tr>\n",
       "      <th>3</th>\n",
       "      <td>22</td>\n",
       "      <td>-4</td>\n",
       "      <td>-89</td>\n",
       "    </tr>\n",
       "  </tbody>\n",
       "</table>\n",
       "</div>"
      ],
      "text/plain": [
       "    A   B   C\n",
       "1   1  75 -17\n",
       "2   7   5 -44\n",
       "3  22  -4 -89"
      ]
     },
     "execution_count": 182,
     "metadata": {},
     "output_type": "execute_result"
    }
   ],
   "source": [
    "# slice and dice\n",
    "df2 = df[df.A > 0]\n",
    "df2"
   ]
  },
  {
   "cell_type": "markdown",
   "id": "a1d56d84",
   "metadata": {},
   "source": [
    "# Intro to Matplotlib"
   ]
  },
  {
   "cell_type": "code",
   "execution_count": 39,
   "id": "6ff4b8fb",
   "metadata": {},
   "outputs": [],
   "source": [
    "import matplotlib.pyplot as plt"
   ]
  },
  {
   "cell_type": "code",
   "execution_count": 43,
   "id": "7458e135",
   "metadata": {},
   "outputs": [
    {
     "data": {
      "image/png": "[encoded data removed]",
      "text/plain": [
       "<Figure size 432x288 with 1 Axes>"
      ]
     },
     "metadata": {
      "needs_background": "light"
     },
     "output_type": "display_data"
    }
   ],
   "source": [
    "# read data with pandas\n",
    "df = pd.read_csv(\"goog.csv\", index_col='date')\n",
    "\n",
    "# convert dates to datetime series (so it becomes time aware)\n",
    "df.index = pd.to_datetime(df.index)\n",
    "\n",
    "\n",
    "df[\"rolling_mean\"] = df[\"close\"].rolling(30).mean()\n",
    "\n",
    "# gewuenschte Graphen auswaehlen\n",
    "plt.plot(df[\"close\"],label=\"Google\")\n",
    "plt.plot(df[\"rolling_mean\"],label=\"30 Tage Durchschnitt\")\n",
    "\n",
    "# Diagramm beschriften\n",
    "plt.title('Close')\n",
    "plt.xlabel('Datum')\n",
    "plt.ylabel('Aktienkurs')\n",
    "plt.legend()\n",
    "\n",
    "# Diagramm anzeigen\n",
    "plt.show()"
   ]
  },
  {
   "cell_type": "markdown",
   "id": "c52cc7e3",
   "metadata": {},
   "source": [
    "# Intro to Statistics Libraries\n",
    "There are many different libraries that we will use for statistics. Let's start with a simple linear regression. We can use a variety of libraries for that (statsmodels, skleanr, scipy, pingouin,...) with different advantages and disadvantage. We will use statsmodels for now."
   ]
  },
  {
   "cell_type": "code",
   "execution_count": 44,
   "id": "1a1908e9",
   "metadata": {},
   "outputs": [],
   "source": [
    "# read advertising data set advertising.csv\n",
    "advert = pd.read_csv('advertising.csv')"
   ]
  },
  {
   "cell_type": "code",
   "execution_count": 45,
   "id": "dc7a1e28",
   "metadata": {},
   "outputs": [
    {
     "data": {
      "text/html": [
       "<table class=\"simpletable\">\n",
       "<caption>OLS Regression Results</caption>\n",
       "<tr>\n",
       "  <th>Dep. Variable:</th>          <td>Sales</td>      <th>  R-squared:         </th> <td>   0.612</td>\n",
       "</tr>\n",
       "<tr>\n",
       "  <th>Model:</th>                   <td>OLS</td>       <th>  Adj. R-squared:    </th> <td>   0.610</td>\n",
       "</tr>\n",
       "<tr>\n",
       "  <th>Method:</th>             <td>Least Squares</td>  <th>  F-statistic:       </th> <td>   312.1</td>\n",
       "</tr>\n",
       "<tr>\n",
       "  <th>Date:</th>             <td>Sun, 11 Sep 2022</td> <th>  Prob (F-statistic):</th> <td>1.47e-42</td>\n",
       "</tr>\n",
       "<tr>\n",
       "  <th>Time:</th>                 <td>12:25:38</td>     <th>  Log-Likelihood:    </th> <td> -519.05</td>\n",
       "</tr>\n",
       "<tr>\n",
       "  <th>No. Observations:</th>      <td>   200</td>      <th>  AIC:               </th> <td>   1042.</td>\n",
       "</tr>\n",
       "<tr>\n",
       "  <th>Df Residuals:</th>          <td>   198</td>      <th>  BIC:               </th> <td>   1049.</td>\n",
       "</tr>\n",
       "<tr>\n",
       "  <th>Df Model:</th>              <td>     1</td>      <th>                     </th>     <td> </td>   \n",
       "</tr>\n",
       "<tr>\n",
       "  <th>Covariance Type:</th>      <td>nonrobust</td>    <th>                     </th>     <td> </td>   \n",
       "</tr>\n",
       "</table>\n",
       "<table class=\"simpletable\">\n",
       "<tr>\n",
       "      <td></td>         <th>coef</th>     <th>std err</th>      <th>t</th>      <th>P>|t|</th>  <th>[0.025</th>    <th>0.975]</th>  \n",
       "</tr>\n",
       "<tr>\n",
       "  <th>Intercept</th> <td>    7.0326</td> <td>    0.458</td> <td>   15.360</td> <td> 0.000</td> <td>    6.130</td> <td>    7.935</td>\n",
       "</tr>\n",
       "<tr>\n",
       "  <th>TV</th>        <td>    0.0475</td> <td>    0.003</td> <td>   17.668</td> <td> 0.000</td> <td>    0.042</td> <td>    0.053</td>\n",
       "</tr>\n",
       "</table>\n",
       "<table class=\"simpletable\">\n",
       "<tr>\n",
       "  <th>Omnibus:</th>       <td> 0.531</td> <th>  Durbin-Watson:     </th> <td>   1.935</td>\n",
       "</tr>\n",
       "<tr>\n",
       "  <th>Prob(Omnibus):</th> <td> 0.767</td> <th>  Jarque-Bera (JB):  </th> <td>   0.669</td>\n",
       "</tr>\n",
       "<tr>\n",
       "  <th>Skew:</th>          <td>-0.089</td> <th>  Prob(JB):          </th> <td>   0.716</td>\n",
       "</tr>\n",
       "<tr>\n",
       "  <th>Kurtosis:</th>      <td> 2.779</td> <th>  Cond. No.          </th> <td>    338.</td>\n",
       "</tr>\n",
       "</table><br/><br/>Notes:<br/>[1] Standard Errors assume that the covariance matrix of the errors is correctly specified."
      ],
      "text/plain": [
       "<class 'statsmodels.iolib.summary.Summary'>\n",
       "\"\"\"\n",
       "                            OLS Regression Results                            \n",
       "==============================================================================\n",
       "Dep. Variable:                  Sales   R-squared:                       0.612\n",
       "Model:                            OLS   Adj. R-squared:                  0.610\n",
       "Method:                 Least Squares   F-statistic:                     312.1\n",
       "Date:                Sun, 11 Sep 2022   Prob (F-statistic):           1.47e-42\n",
       "Time:                        12:25:38   Log-Likelihood:                -519.05\n",
       "No. Observations:                 200   AIC:                             1042.\n",
       "Df Residuals:                     198   BIC:                             1049.\n",
       "Df Model:                           1                                         \n",
       "Covariance Type:            nonrobust                                         \n",
       "==============================================================================\n",
       "                 coef    std err          t      P>|t|      [0.025      0.975]\n",
       "------------------------------------------------------------------------------\n",
       "Intercept      7.0326      0.458     15.360      0.000       6.130       7.935\n",
       "TV             0.0475      0.003     17.668      0.000       0.042       0.053\n",
       "==============================================================================\n",
       "Omnibus:                        0.531   Durbin-Watson:                   1.935\n",
       "Prob(Omnibus):                  0.767   Jarque-Bera (JB):                0.669\n",
       "Skew:                          -0.089   Prob(JB):                        0.716\n",
       "Kurtosis:                       2.779   Cond. No.                         338.\n",
       "==============================================================================\n",
       "\n",
       "Notes:\n",
       "[1] Standard Errors assume that the covariance matrix of the errors is correctly specified.\n",
       "\"\"\""
      ]
     },
     "execution_count": 45,
     "metadata": {},
     "output_type": "execute_result"
    }
   ],
   "source": [
    "import statsmodels.formula.api as smf\n",
    "\n",
    "# Initialise and fit linear regression model using statsmodels\n",
    "model = smf.ols('Sales ~ TV', data=advert)\n",
    "model = model.fit()\n",
    "model.summary()"
   ]
  },
  {
   "cell_type": "code",
   "execution_count": 46,
   "id": "b1f593a5",
   "metadata": {},
   "outputs": [
    {
     "data": {
      "text/plain": [
       "<statsmodels.regression.linear_model.RegressionResultsWrapper at 0x22e1eb0f8b0>"
      ]
     },
     "execution_count": 46,
     "metadata": {},
     "output_type": "execute_result"
    }
   ],
   "source": [
    "model"
   ]
  },
  {
   "cell_type": "code",
   "execution_count": 47,
   "id": "1ff93b2b",
   "metadata": {},
   "outputs": [
    {
     "data": {
      "image/png": "[encoded data removed]",
      "text/plain": [
       "<Figure size 864x432 with 1 Axes>"
      ]
     },
     "metadata": {
      "needs_background": "light"
     },
     "output_type": "display_data"
    }
   ],
   "source": [
    "# Predict values\n",
    "sales_pred = model.predict()\n",
    "\n",
    "# Plot regression against actual data\n",
    "plt.figure(figsize=(12, 6))\n",
    "plt.plot(advert['TV'], advert['Sales'], 'o')           # scatter plot showing actual data\n",
    "plt.plot(advert['TV'], sales_pred, 'r', linewidth=2)   # regression line\n",
    "plt.xlabel('TV Advertising Costs')\n",
    "plt.ylabel('Sales')\n",
    "plt.title('TV vs Sales')\n",
    "\n",
    "plt.show()"
   ]
  },
  {
   "cell_type": "code",
   "execution_count": 48,
   "id": "02a50d9d",
   "metadata": {},
   "outputs": [
    {
     "data": {
      "text/plain": [
       "0    26.04725\n",
       "dtype: float64"
      ]
     },
     "execution_count": 48,
     "metadata": {},
     "output_type": "execute_result"
    }
   ],
   "source": [
    "# predict new value (for advertising = 400)\n",
    "new_X = 400\n",
    "model.predict({\"TV\": new_X})"
   ]
  },
  {
   "cell_type": "markdown",
   "id": "b30e4912",
   "metadata": {},
   "source": [
    "## Aufgabe\n",
    "- Importieren Sie die Datei *Studis.csv*. \n",
    "- Stellen Sie einen lineare Regression auf, die die durchschnittliche Note der Studierenden erklärt, abhängig von der Lernzeit.\n",
    "- Plotten Sie die Vorhersage der Regression gegen die echten Werte.\n",
    "- Fügen Sie jetzt noch andere Variablen in die Regression ein: Alter, Geschlecht, Fach etc. Interpretieren Sie die Koeffizienten und prüfen Sie die Signifikanz.\n",
    "- Berechnen Sie den *Mean Absolute Percentage Error* und den *Root Mean Square Error*."
   ]
  },
  {
   "cell_type": "code",
   "execution_count": 2,
   "id": "dea6414d",
   "metadata": {},
   "outputs": [
    {
     "data": {
      "image/png": "[encoded data removed]",
      "text/plain": [
       "<Figure size 432x288 with 1 Axes>"
      ]
     },
     "metadata": {
      "needs_background": "light"
     },
     "output_type": "display_data"
    },
    {
     "name": "stdout",
     "output_type": "stream",
     "text": [
      "                            OLS Regression Results                            \n",
      "==============================================================================\n",
      "Dep. Variable:           Durchschnitt   R-squared:                       0.580\n",
      "Model:                            OLS   Adj. R-squared:                  0.542\n",
      "Method:                 Least Squares   F-statistic:                     15.51\n",
      "Date:                Thu, 07 Apr 2022   Prob (F-statistic):           4.13e-14\n",
      "Time:                        11:31:43   Log-Likelihood:                -96.704\n",
      "No. Observations:                  99   AIC:                             211.4\n",
      "Df Residuals:                      90   BIC:                             234.8\n",
      "Df Model:                           8                                         \n",
      "Covariance Type:            nonrobust                                         \n",
      "========================================================================================\n",
      "                           coef    std err          t      P>|t|      [0.025      0.975]\n",
      "----------------------------------------------------------------------------------------\n",
      "Intercept                3.8477      0.533      7.216      0.000       2.788       4.907\n",
      "C(Geschlecht)[T.w]      -0.0426      0.169     -0.252      0.801      -0.378       0.293\n",
      "C(Fach)[T.Geo]           0.0447      0.226      0.197      0.844      -0.405       0.494\n",
      "C(Fach)[T.Lehramt]       0.0156      0.227      0.069      0.945      -0.435       0.466\n",
      "C(Fach)[T.Mathe]        -1.0588      0.400     -2.645      0.010      -1.854      -0.263\n",
      "C(Fach)[T.Politik]       0.2161      0.239      0.903      0.369      -0.259       0.692\n",
      "C(Fach)[T.Sonstiges]     0.1681      0.233      0.720      0.473      -0.296       0.632\n",
      "Lernzeit                -0.5584      0.058     -9.612      0.000      -0.674      -0.443\n",
      "Alter                    0.0202      0.023      0.872      0.385      -0.026       0.066\n",
      "==============================================================================\n",
      "Omnibus:                       32.494   Durbin-Watson:                   2.028\n",
      "Prob(Omnibus):                  0.000   Jarque-Bera (JB):               79.155\n",
      "Skew:                          -1.182   Prob(JB):                     6.48e-18\n",
      "Kurtosis:                       6.688   Cond. No.                         180.\n",
      "==============================================================================\n",
      "\n",
      "Notes:\n",
      "[1] Standard Errors assume that the covariance matrix of the errors is correctly specified.\n",
      "Mean Absolute Percentage Error: 0.2004\n",
      "Root Mean Square Error: 0.6427\n"
     ]
    }
   ],
   "source": [
    "# import pandas, numby, statsmodels, matplotlib\n",
    "\n",
    "\n",
    "# Daten einlesen\n",
    "\n",
    "\n",
    "# Notendurchschnitt berechnen\n",
    "\n",
    "\n",
    "# Initialise and fit linear regression model using `statsmodels`\n",
    "\n",
    "\n",
    "# Predict values\n",
    "\n",
    "\n",
    "# Plot regression against actual data\n",
    "\n",
    "\n",
    "# Model with more variables and variables with categories (siehe Ausgabe)\n",
    "\n",
    "\n",
    "# Mean Absolute Percantage Error and Root Mean Square Error\n",
    "\n"
   ]
  }
 ],
 "metadata": {
  "kernelspec": {
   "display_name": "Python 3 (ipykernel)",
   "language": "python",
   "name": "python3"
  },
  "language_info": {
   "codemirror_mode": {
    "name": "ipython",
    "version": 3
   },
   "file_extension": ".py",
   "mimetype": "text/x-python",
   "name": "python",
   "nbconvert_exporter": "python",
   "pygments_lexer": "ipython3",
   "version": "3.9.7"
  },
  "vscode": {
   "interpreter": {
    "hash": "e165bd9f2421c5eb20ff07afc84151005b605c0a44010827081d54cac67592f2"
   }
  }
 },
 "nbformat": 4,
 "nbformat_minor": 5
}
