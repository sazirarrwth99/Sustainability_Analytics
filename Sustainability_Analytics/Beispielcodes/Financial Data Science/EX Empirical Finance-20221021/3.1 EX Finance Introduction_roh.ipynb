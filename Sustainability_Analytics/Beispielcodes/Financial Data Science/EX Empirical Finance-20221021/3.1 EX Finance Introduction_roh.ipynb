{
 "cells": [
  {
   "cell_type": "markdown",
   "id": "29730b9a",
   "metadata": {},
   "source": [
    "# Introduction to Finance and Capital Markets"
   ]
  },
  {
   "cell_type": "code",
   "execution_count": 2,
   "id": "e7480a15",
   "metadata": {},
   "outputs": [],
   "source": [
    "import pandas_datareader.data as web\n",
    "from datetime import datetime, timedelta\n",
    "import pandas as pd\n",
    "import matplotlib.pyplot as plt\n",
    "import statsmodels.api as sm\n",
    "import statsmodels.formula.api as smf\n",
    "import numpy as np\n",
    "import warnings\n",
    "warnings.filterwarnings(\"ignore\")"
   ]
  },
  {
   "cell_type": "markdown",
   "id": "bfc611ab",
   "metadata": {},
   "source": [
    "## Basic Measures"
   ]
  },
  {
   "cell_type": "code",
   "execution_count": 3,
   "id": "142746d6",
   "metadata": {},
   "outputs": [],
   "source": [
    "# Read Apple stock data\n",
    "start = datetime(2011, 12, 25)\n",
    "end = datetime(2022, 1, 5)\n",
    "ticker = \"AAPL\"\n",
    "data = web.DataReader(ticker, 'yahoo', start=start, end=end)\n",
    "\n",
    "\n",
    "# 1. Calculate the return for every data point\n",
    "# 2. Drop all NaN Values\n",
    "# 3. Format the index of your dataframe to datetime\n",
    "\n",
    "\n",
    "# Inspect your data ...\n",
    "# You can see: We still have some days from 2011 and 2022 in our dataframe\n",
    "\n",
    "\n",
    "# 4. Slice the data to 2012-2021\n",
    "# hint: now as the index is in datetime format, you can use .Date to access the dates\n",
    "\n",
    "\n",
    "# 5. Reset index to default, do not create a new dataframe for this\n",
    "# hint: the needed parameters are drop & inplace"
   ]
  },
  {
   "cell_type": "markdown",
   "id": "8d03ad6a",
   "metadata": {},
   "source": [
    "## Returns\n",
    "When working with stock returns, remember that they are cumulative. Going from daily to monthly, yearly, etc. also requires some attention as not every day is a trading day.\n",
    "\n",
    "Research how mean returns are typically defined in finance and calculate the following:\n",
    "- Total Return\n",
    "- Average Daily Return\n",
    "- Average Monthly Return\n",
    "- Average Yearly Return\n",
    "\n",
    "(There are different ways and the results can actually differ a bit. The right method depends on what you want to calculate/express. Feel free to try different ways and compare the results.)\n"
   ]
  },
  {
   "cell_type": "code",
   "execution_count": 4,
   "id": "5dc8223b",
   "metadata": {},
   "outputs": [],
   "source": [
    "# 1. Calculate the total cumulative return\n",
    "# hint: there is a helpful numpy function, but it's not the only way\n",
    "\n",
    "\n",
    "# 2. Calculate the mean returns (daily, monthly, yearly)\n",
    "# hint: you can use the python operator ** for potentiation\n",
    "\n",
    "\n",
    "# 3. Alternative way: Calculate the geometric mean returns (daily, yearly) starting from total return\n",
    "# now compare the difference\n"
   ]
  },
  {
   "cell_type": "markdown",
   "id": "79da240a",
   "metadata": {},
   "source": [
    "## Risk\n",
    "Again, be aware of the exceptions when working with stock price data.\n",
    "Research and calculate the following measures:\n",
    "- Volatility (standard deviation and variance): daily, monthly, yearly\n",
    "- Maximum drawdown in a day/year\n",
    "- positive/negative days/years, relative to total days/years"
   ]
  },
  {
   "cell_type": "code",
   "execution_count": 7,
   "id": "737c2f81",
   "metadata": {},
   "outputs": [
    {
     "name": "stdout",
     "output_type": "stream",
     "text": [
      "The yearly return volatility of Apple is 28.35%\n"
     ]
    }
   ],
   "source": [
    "# calculate the daily, monthly and yearly volatility\n"
   ]
  },
  {
   "cell_type": "code",
   "execution_count": 6,
   "id": "3ad24cf3",
   "metadata": {},
   "outputs": [
    {
     "name": "stdout",
     "output_type": "stream",
     "text": [
      "The maximum daily drawdown is -12.86%\n"
     ]
    }
   ],
   "source": [
    "# calculate the maximum daily/yearly drawdown\n"
   ]
  },
  {
   "cell_type": "code",
   "execution_count": 10,
   "id": "0e5049f7",
   "metadata": {},
   "outputs": [
    {
     "name": "stdout",
     "output_type": "stream",
     "text": [
      "Apple ended the year positive in 80.0% of the years in our sample.\n"
     ]
    }
   ],
   "source": [
    "# 1. Calculate the share of days with positive returns\n",
    "\n",
    "# 2. Calculate the share of years with positive returns\n",
    "# hint: use the given dataframe and add columns for intermediate results\n",
    "# for example save the values of the yearly returns in every datapoint of that year\n",
    "# after that you can easily create a subset which only contains the yearly data\n"
   ]
  },
  {
   "cell_type": "markdown",
   "id": "23c5bd1c",
   "metadata": {},
   "source": [
    "## Risk adjusted Return\n",
    "A high return is not necessarily good if it meant taking on a high amount of risk. Investors thus prefer to look at risk adjusted return measures. One very popular measure is the Sharpe-ratio. Research what it is and calculate:\n",
    "- Yearly Risk free rate (i.e. based on treasury yield, ticker: \"^TNX\")\n",
    "- Yearly Excess Returns (over the risk-free rate)\n",
    "- Sharpe Ratio (on a yearly basis)"
   ]
  },
  {
   "cell_type": "code",
   "execution_count": 85,
   "id": "50e15ed2",
   "metadata": {},
   "outputs": [],
   "source": [
    "# get the treasury yield data\n",
    "\n",
    "# extract the close price for further use "
   ]
  },
  {
   "cell_type": "code",
   "execution_count": 87,
   "id": "70b8dfc9",
   "metadata": {},
   "outputs": [],
   "source": [
    "# add risk free rate to data from above\n",
    "# hint: there is a function to bring both dataframes together"
   ]
  },
  {
   "cell_type": "code",
   "execution_count": 91,
   "id": "020889ac",
   "metadata": {},
   "outputs": [],
   "source": [
    "# compute yearly excess returns\n",
    "# hint: again you can create a subset with yearly data as explained above\n"
   ]
  },
  {
   "cell_type": "code",
   "execution_count": 97,
   "id": "eea4de84",
   "metadata": {},
   "outputs": [
    {
     "name": "stdout",
     "output_type": "stream",
     "text": [
      "Yearly Sharpe Ratio of Apple is: 1.01\n"
     ]
    }
   ],
   "source": [
    "# calculate the sharpe ratio\n"
   ]
  }
 ],
 "metadata": {
  "kernelspec": {
   "display_name": "Python 3.9.6 64-bit",
   "language": "python",
   "name": "python3"
  },
  "language_info": {
   "codemirror_mode": {
    "name": "ipython",
    "version": 3
   },
   "file_extension": ".py",
   "mimetype": "text/x-python",
   "name": "python",
   "nbconvert_exporter": "python",
   "pygments_lexer": "ipython3",
   "version": "3.9.6"
  },
  "vscode": {
   "interpreter": {
    "hash": "31f2aee4e71d21fbe5cf8b01ff0e069b9275f58929596ceb00d14d90e3e16cd6"
   }
  }
 },
 "nbformat": 4,
 "nbformat_minor": 5
}
