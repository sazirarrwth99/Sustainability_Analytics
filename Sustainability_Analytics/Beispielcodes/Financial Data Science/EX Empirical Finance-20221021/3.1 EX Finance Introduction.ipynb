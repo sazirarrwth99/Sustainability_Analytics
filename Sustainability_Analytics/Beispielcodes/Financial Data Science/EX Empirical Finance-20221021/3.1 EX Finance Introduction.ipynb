{
 "cells": [
  {
   "cell_type": "markdown",
   "id": "29730b9a",
   "metadata": {},
   "source": [
    "# Introduction to Finance and Capital Markets"
   ]
  },
  {
   "cell_type": "code",
   "execution_count": 227,
   "id": "e7480a15",
   "metadata": {},
   "outputs": [],
   "source": [
    "import pandas_datareader.data as web\n",
    "from datetime import datetime, timedelta\n",
    "import pandas as pd\n",
    "import matplotlib.pyplot as plt\n",
    "import statsmodels.api as sm\n",
    "import statsmodels.formula.api as smf\n",
    "import numpy as np\n",
    "import warnings\n",
    "warnings.filterwarnings(\"ignore\")"
   ]
  },
  {
   "cell_type": "markdown",
   "id": "bfc611ab",
   "metadata": {},
   "source": [
    "## Basic Measures"
   ]
  },
  {
   "cell_type": "code",
   "execution_count": 228,
   "id": "142746d6",
   "metadata": {},
   "outputs": [],
   "source": [
    "# Read Apple stock data\n",
    "start = datetime(2011, 12, 25)\n",
    "end = datetime(2022, 1, 5)\n",
    "ticker = \"AAPL\"\n",
    "data = web.DataReader(ticker, 'yahoo', start=start, end=end)\n",
    "\n",
    "# 1. Calculate the return for every data point\n",
    "data[\"Return\"] = data[\"Adj Close\"].pct_change()\n",
    "# 2. Drop all NaN Values\n",
    "data.dropna(inplace=True, axis=0)\n",
    "# 3. Format the index of your dataframe to datetime\n",
    "data.index = pd.to_datetime(data.index)     \n",
    "\n",
    "# Inspect your data ...\n",
    "# You can see: We still have some days from 2011 and 2022 in our dataframe\n",
    "data\n",
    "\n",
    "# 4. Slice the data to 2012-2021\n",
    "# hint: now as the index is in datetime format, you can use .Date to access the dates\n",
    "data = data[(data.index.year >= 2012) & (data.index.year <= 2021)]\n",
    "\n",
    "# 5. Reset index to default, do not create a new dataframe for this\n",
    "data_mit_index = data.copy()\n",
    "data.reset_index(inplace=True, drop=True)\n",
    "# hint: the needed parameters are drop & inplace\n"
   ]
  },
  {
   "cell_type": "markdown",
   "id": "8d03ad6a",
   "metadata": {},
   "source": [
    "## Returns\n",
    "When working with stock returns, remember that they are cumulative. Going from daily to monthly, yearly, etc. also requires some attention as not every day is a trading day.\n",
    "\n",
    "Research how mean returns are typically defined in finance and calculate the following:\n",
    "- Total Return\n",
    "- Average Daily Return\n",
    "- Average Monthly Return\n",
    "- Average Yearly Return\n",
    "\n",
    "(There are different ways and the results can actually differ a bit. The right method depends on what you want to calculate/express. Feel free to try different ways and compare the results.)\n"
   ]
  },
  {
   "cell_type": "code",
   "execution_count": 229,
   "id": "5dc8223b",
   "metadata": {},
   "outputs": [],
   "source": [
    "# 1. Calculate the total cumulative return\n",
    "# hint: there is a helpful numpy function, but it's not the only way\n",
    "cumulative_return = np.prod(data[\"Return\"]+1)-1 \n",
    "# 2. Calculate the mean returns (daily, monthly, yearly)\n",
    "# hint: you can use the python operator ** for potentiation\n",
    "#wenn man monatliche Rendite berechnen soll, wieso soll mann denn den Index zurücksetzten?\n",
    "average_return_daily_mean = data[\"Return\"].mean()\n",
    "#average_return_monthly_mean = data.groupby(by=data.index.month,axis=0).mean()\n",
    "average_return_yearly_mean = (1+average_return_daily_mean)**252-1\n",
    "#average_return_monthly_mean = (1+average_return_yearly_mean)**(1/10)-1\n",
    "average_return_monthly_mean = average_return_yearly_mean*0.1\n",
    "\n",
    "# 3. Alternative way: Calculate the geometric mean returns (daily, yearly) starting from total return\n",
    "# now compare the difference\n",
    "average_return_daily = (1 + cumulative_return) ** (1/len(data)) - 1\n",
    "average_return_monthly = (1 + cumulative_return) ** (1/(len(data)/12)) - 1\n",
    "#es gibt nicht 365 trating days\n",
    "average_return_yearly = (1 + cumulative_return) ** (1/(len(data)/252)) - 1\n",
    "\n",
    "\n"
   ]
  },
  {
   "cell_type": "markdown",
   "id": "79da240a",
   "metadata": {},
   "source": [
    "## Risk\n",
    "Again, be aware of the exceptions when working with stock price data.\n",
    "Research and calculate the following measures:\n",
    "- Volatility (standard deviation and variance): daily, monthly, yearly\n",
    "- Maximum drawdown in a day/year\n",
    "- positive/negative days/years, relative to total days/years"
   ]
  },
  {
   "cell_type": "code",
   "execution_count": 230,
   "id": "737c2f81",
   "metadata": {},
   "outputs": [
    {
     "data": {
      "text/plain": [
       "0.28352463843378223"
      ]
     },
     "execution_count": 230,
     "metadata": {},
     "output_type": "execute_result"
    }
   ],
   "source": [
    "# calculate the daily, monthly and yearly volatility\n",
    "volatility_daily = data[\"Return\"].std()\n",
    "volatility_yearly = volatility_daily*np.sqrt(252)\n",
    "volatility_monthly = volatility_yearly*np.sqrt(12)\n",
    "volatility_yearly\n",
    "\n"
   ]
  },
  {
   "cell_type": "code",
   "execution_count": 231,
   "id": "3ad24cf3",
   "metadata": {},
   "outputs": [
    {
     "data": {
      "text/plain": [
       "-12.864717636644563"
      ]
     },
     "execution_count": 231,
     "metadata": {},
     "output_type": "execute_result"
    }
   ],
   "source": [
    "# calculate the maximum daily/yearly drawdown\n",
    "min(data[\"Return\"])*100"
   ]
  },
  {
   "cell_type": "code",
   "execution_count": 232,
   "id": "0e5049f7",
   "metadata": {},
   "outputs": [
    {
     "data": {
      "text/plain": [
       "0.8"
      ]
     },
     "execution_count": 232,
     "metadata": {},
     "output_type": "execute_result"
    }
   ],
   "source": [
    "# 1. Calculate the share of days with positive returns\n",
    "data[\"Return\"].apply(lambda x: x>0).sum()\n",
    "# 2. Calculate the share of years with positive returns\n",
    "# hint: use the given dataframe and add columns for intermediate results\n",
    "# for example save the values of the yearly returns in every datapoint of that year\n",
    "# after that you can easily create a subset which only contains the yearly data\n",
    "round(data[\"Return\"].groupby(by=(data.index/252).astype(int)).transform(lambda x: np.prod(x+1)-1).apply(lambda x: x>0).sum()/len(data),1)"
   ]
  },
  {
   "cell_type": "markdown",
   "id": "23c5bd1c",
   "metadata": {},
   "source": [
    "## Risk adjusted Return\n",
    "A high return is not necessarily good if it meant taking on a high amount of risk. Investors thus prefer to look at risk adjusted return measures. One very popular measure is the Sharpe-ratio. Research what it is and calculate:\n",
    "- Yearly Risk free rate (i.e. based on treasury yield, ticker: \"^TNX\")\n",
    "- Yearly Excess Returns (over the risk-free rate)\n",
    "- Sharpe Ratio (on a yearly basis)"
   ]
  },
  {
   "cell_type": "code",
   "execution_count": 237,
   "id": "50e15ed2",
   "metadata": {},
   "outputs": [],
   "source": [
    "# get the treasury yield data\n",
    "start = datetime(2011, 12, 25)\n",
    "end = datetime(2022, 1, 5)\n",
    "ticker = \"^TNX\"\n",
    "data_ty = web.DataReader(ticker, 'yahoo', start=start, end=end)\n",
    "data_ty.index = pd.to_datetime(data_ty.index)     \n",
    "\n",
    "# extract the close price for further use \n",
    "\n"
   ]
  },
  {
   "cell_type": "code",
   "execution_count": 234,
   "id": "70b8dfc9",
   "metadata": {},
   "outputs": [],
   "source": [
    "# add risk free rate to data from above\n",
    "# hint: there is a function to bring both dataframes together\n"
   ]
  },
  {
   "cell_type": "code",
   "execution_count": 235,
   "id": "020889ac",
   "metadata": {},
   "outputs": [],
   "source": [
    "# compute yearly excess returns\n",
    "# hint: again you can create a subset with yearly data as explained above\n"
   ]
  },
  {
   "cell_type": "code",
   "execution_count": 236,
   "id": "eea4de84",
   "metadata": {},
   "outputs": [],
   "source": [
    "# calculate the sharpe ratio\n"
   ]
  }
 ],
 "metadata": {
  "kernelspec": {
   "display_name": "Python 3.9.6 64-bit",
   "language": "python",
   "name": "python3"
  },
  "language_info": {
   "codemirror_mode": {
    "name": "ipython",
    "version": 3
   },
   "file_extension": ".py",
   "mimetype": "text/x-python",
   "name": "python",
   "nbconvert_exporter": "python",
   "pygments_lexer": "ipython3",
   "version": "3.9.6"
  },
  "vscode": {
   "interpreter": {
    "hash": "31f2aee4e71d21fbe5cf8b01ff0e069b9275f58929596ceb00d14d90e3e16cd6"
   }
  }
 },
 "nbformat": 4,
 "nbformat_minor": 5
}
